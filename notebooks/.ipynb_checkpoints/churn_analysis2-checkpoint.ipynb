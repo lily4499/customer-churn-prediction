{
 "cells": [
  {
   "cell_type": "markdown",
   "metadata": {},
   "source": [
    "# 📊 Customer Churn Prediction\n",
    "\n",
    "## Project Portfolio Entry\n",
    "\n",
    "**Objective:** Demonstrate ability to build an end-to-end data analysis and predictive modeling project.\n",
    "\n",
    "**Business Question:**\n",
    "👉 Can we predict which customers are likely to churn, and provide actionable insights to reduce churn?\n",
    "\n",
    "## Project Workflow:\n",
    "1️⃣ Define Problem  \n",
    "2️⃣ Load & Clean Data  \n",
    "3️⃣ Explore Data  \n",
    "4️⃣ Statistical Testing  \n",
    "5️⃣ Build Predictive Model  \n",
    "6️⃣ Predict Risk Scores  \n",
    "7️⃣ Conclusion & Business Recommendations  \n"
   ]
  },
  {
   "cell_type": "markdown",
   "metadata": {},
   "source": [
    "## 1️⃣ Import Libraries (Purpose: Load Python tools needed for data analysis & modeling)"
   ]
  },
  {
   "cell_type": "code",
   "execution_count": null,
   "metadata": {},
   "outputs": [],
   "source": [
    "import os\n",
    "import pandas as pd\n",
    "import matplotlib.pyplot as plt\n",
    "import seaborn as sns\n",
    "from scipy.stats import ttest_ind\n",
    "from sklearn.model_selection import train_test_split\n",
    "from sklearn.linear_model import LogisticRegression\n",
    "from sklearn.metrics import classification_report, confusion_matrix"
   ]
  },
  {
   "cell_type": "markdown",
   "metadata": {},
   "source": [
    "## 2️⃣ Load CSV (Purpose: Import raw dataset into DataFrame to prepare for cleaning & analysis)"
   ]
  },
  {
   "cell_type": "code",
   "execution_count": null,
   "metadata": {},
   "outputs": [],
   "source": [
    "project_root = os.path.abspath('..')  # Go up 1 level to project root\n",
    "data_path = os.path.join(project_root, 'data', 'telco_churn.csv')\n",
    "\n",
    "df = pd.read_csv(data_path)\n",
    "df.head()"
   ]
  },
  {
   "cell_type": "markdown",
   "metadata": {},
   "source": [
    "## 3️⃣ Clean Data (Purpose: Prepare the dataset for analysis & modeling)\n",
    "- Fix data types (TotalCharges)\n",
    "- Handle missing values\n",
    "- Encode categorical columns (gender, churn)"
   ]
  },
  {
   "cell_type": "code",
   "execution_count": null,
   "metadata": {},
   "outputs": [],
   "source": [
    "# Strip column names\n",
    "df.columns = df.columns.str.strip()\n",
    "\n",
    "# Clean Churn values\n",
    "df['Churn'] = df['Churn'].str.strip()\n",
    "df['Churn'] = df['Churn'].map({'Yes': 1, 'No': 0})\n",
    "\n",
    "# Clean TotalCharges\n",
    "df['TotalCharges'] = pd.to_numeric(df['TotalCharges'], errors='coerce')\n",
    "df['TotalCharges'] = df['TotalCharges'].fillna(df['TotalCharges'].median())\n",
    "\n",
    "# Encode gender\n",
    "df['gender'] = df['gender'].map({'Male': 1, 'Female': 0})\n",
    "\n",
    "df.head()"
   ]
  },
  {
   "cell_type": "markdown",
   "metadata": {},
   "source": [
    "## 4️⃣ Explore Data (Purpose: Visualize key patterns & trends)\n",
    "- Tenure vs Churn\n",
    "- Monthly Charges vs Churn\n",
    "- Identify segments with higher risk"
   ]
  },
  {
   "cell_type": "code",
   "execution_count": null,
   "metadata": {},
   "outputs": [],
   "source": [
    "sns.histplot(data=df, x='tenure', hue='Churn', multiple='stack', bins=30)\n",
    "plt.title('Tenure Distribution by Churn')\n",
    "plt.xlabel('Tenure (months)')\n",
    "plt.ylabel('Number of Customers')\n",
    "plt.show()"
   ]
  },
  {
   "cell_type": "code",
   "execution_count": null,
   "metadata": {},
   "outputs": [],
   "source": [
    "sns.boxplot(data=df, x='Churn', y='MonthlyCharges')\n",
    "plt.title('Monthly Charges vs Churn')\n",
    "plt.xlabel('Churn')\n",
    "plt.ylabel('Monthly Charges ($)')\n",
    "plt.show()"
   ]
  },
  {
   "cell_type": "markdown",
   "metadata": {},
   "source": [
    "## 5️⃣ Statistical Testing (Purpose: Confirm if tenure difference is statistically significant)\n",
    "👉 Perform independent T-test between churned & retained customers"
   ]
  },
  {
   "cell_type": "code",
   "execution_count": null,
   "metadata": {},
   "outputs": [],
   "source": [
    "churned = df[df['Churn'] == 1]['tenure']\n",
    "retained = df[df['Churn'] == 0]['tenure']\n",
    "\n",
    "t_stat, p_value = ttest_ind(churned, retained)\n",
    "print(f\"T-test p-value for tenure difference = {p_value:.4f}\")"
   ]
  },
  {
   "cell_type": "markdown",
   "metadata": {},
   "source": [
    "## 6️⃣ Build Logistic Regression Model (Purpose: Predict likelihood of churn)"
   ]
  },
  {
   "cell_type": "code",
   "execution_count": null,
   "metadata": {},
   "outputs": [],
   "source": [
    "features = ['gender', 'SeniorCitizen', 'tenure', 'MonthlyCharges', 'TotalCharges']\n",
    "X = df[features]\n",
    "y = df['Churn']\n",
    "\n",
    "X_train, X_test, y_train, y_test = train_test_split(X, y, test_size=0.3, random_state=42)\n",
    "\n",
    "model = LogisticRegression(max_iter=1000)\n",
    "model.fit(X_train, y_train)\n",
    "\n",
    "y_pred = model.predict(X_test)\n",
    "\n",
    "print(\"Confusion Matrix:\")\n",
    "print(confusion_matrix(y_test, y_pred))\n",
    "\n",
    "print(\"\\nClassification Report:\")\n",
    "print(classification_report(y_test, y_pred))"
   ]
  },
  {
   "cell_type": "markdown",
   "metadata": {},
   "source": [
    "## 7️⃣ Predict Risk Scores (Purpose: Rank customers by risk of churn)\n",
    "👉 Generate risk scores for each customer (Probability of churn)"
   ]
  },
  {
   "cell_type": "code",
   "execution_count": null,
   "metadata": {},
   "outputs": [],
   "source": [
    "df['RiskScore'] = model.predict_proba(X)[:, 1]\n",
    "df[['customerID', 'RiskScore']].sort_values(by='RiskScore', ascending=False).head(10)"
   ]
  },
  {
   "cell_type": "markdown",
   "metadata": {},
   "source": [
    "## ✅ Conclusion & Business Recommendations for Stakeholders\n",
    "\n",
    "**Key Findings:**\n",
    "- Shorter-tenure customers are more likely to churn\n",
    "- Higher monthly charges correlate with higher churn risk\n",
    "- Model provides risk scores with reasonable accuracy (see classification report)\n",
    "\n",
    "**Recommendations:**\n",
    "1. Launch targeted retention campaigns for customers in first 12 months of tenure\n",
    "2. Offer discounts or service bundles to customers with high monthly charges\n",
    "3. Use risk scores in CRM systems to proactively engage at-risk customers\n",
    "4. Automate weekly churn monitoring dashboard for continuous tracking\n",
    "\n",
    "**Next Steps:**\n",
    "- Explore more advanced models (Random Forest, XGBoost)\n",
    "- Add new features (customer complaints, NPS score)\n",
    "- Deploy into production using automated pipelines\n",
    "\n",
    "---\n",
    "🎓 This project demonstrates my skills in:\n",
    "- Data cleaning & wrangling\n",
    "- Exploratory data analysis (EDA)\n",
    "- Statistical testing\n",
    "- Predictive modeling\n",
    "- Communicating insights to business stakeholders\n"
   ]
  }
 ],
 "metadata": {
  "kernelspec": {
   "display_name": "Python 3",
   "language": "python",
   "name": "python3"
  },
  "language_info": {
   "name": "python",
   "version": "3.x"
  }
 },
 "nbformat": 4,
 "nbformat_minor": 5
}

