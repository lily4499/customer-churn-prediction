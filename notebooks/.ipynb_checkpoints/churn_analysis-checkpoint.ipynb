{
 "cells": [
  {
   "cell_type": "markdown",
   "id": "8c6492fd",
   "metadata": {},
   "source": [
    "# Customer Churn Prediction - Jupyter Notebook\n",
    "\n",
    "**Business Question:** Can we predict which customers are likely to churn?"
   ]
  },
  {
   "cell_type": "code",
   "execution_count": null,
   "id": "3e81205e",
   "metadata": {},
   "outputs": [],
   "source": [
    "# 1️⃣ Import Libraries\n",
    "import pandas as pd\n",
    "import matplotlib.pyplot as plt\n",
    "import seaborn as sns\n",
    "from scipy.stats import ttest_ind\n",
    "from sklearn.model_selection import train_test_split\n",
    "from sklearn.linear_model import LogisticRegression\n",
    "from sklearn.metrics import classification_report, confusion_matrix"
   ]
  },
  {
   "cell_type": "code",
   "execution_count": null,
   "id": "4c5fa5c1",
   "metadata": {},
   "outputs": [],
   "source": [
    "# 2️⃣ Load CSV\n",
    "df = pd.read_csv('data/telco_churn.csv')\n",
    "df.head()"
   ]
  },
  {
   "cell_type": "code",
   "execution_count": null,
   "id": "3674de05",
   "metadata": {},
   "outputs": [],
   "source": [
    "# 3️⃣ Clean Data\n",
    "df['TotalCharges'] = pd.to_numeric(df['TotalCharges'], errors='coerce')\n",
    "df['TotalCharges'].fillna(df['TotalCharges'].median(), inplace=True)\n",
    "df['gender'] = df['gender'].map({'Male': 1, 'Female': 0})\n",
    "df['Churn'] = df['Churn'].map({'Yes': 1, 'No': 0})\n",
    "df.head()"
   ]
  },
  {
   "cell_type": "code",
   "execution_count": null,
   "id": "f9c2f882",
   "metadata": {},
   "outputs": [],
   "source": [
    "# 4️⃣ Explore: Tenure Distribution by Churn\n",
    "sns.histplot(data=df, x='tenure', hue='Churn', multiple='stack')\n",
    "plt.title('Tenure Distribution by Churn')\n",
    "plt.xlabel('Tenure (months)')\n",
    "plt.ylabel('Number of Customers')\n",
    "plt.show()"
   ]
  },
  {
   "cell_type": "code",
   "execution_count": null,
   "id": "42666d36",
   "metadata": {},
   "outputs": [],
   "source": [
    "# Explore: Monthly Charges by Churn\n",
    "sns.boxplot(data=df, x='Churn', y='MonthlyCharges')\n",
    "plt.title('Monthly Charges vs Churn')\n",
    "plt.xlabel('Churn')\n",
    "plt.ylabel('Monthly Charges ($)')\n",
    "plt.show()"
   ]
  },
  {
   "cell_type": "code",
   "execution_count": null,
   "id": "3f48a244",
   "metadata": {},
   "outputs": [],
   "source": [
    "# 5️⃣ Statistical Test: T-test on Tenure\n",
    "churned = df[df['Churn'] == 1]['tenure']\n",
    "retained = df[df['Churn'] == 0]['tenure']\n",
    "t_stat, p_value = ttest_ind(churned, retained)\n",
    "print(f\"T-test p-value for tenure difference = {p_value:.4f}\")"
   ]
  },
  {
   "cell_type": "code",
   "execution_count": null,
   "id": "662fcf2c",
   "metadata": {},
   "outputs": [],
   "source": [
    "# 6️⃣ Build Logistic Regression Model\n",
    "features = ['gender', 'SeniorCitizen', 'tenure', 'MonthlyCharges', 'TotalCharges']\n",
    "X = df[features]\n",
    "y = df['Churn']\n",
    "X_train, X_test, y_train, y_test = train_test_split(X, y, test_size=0.3, random_state=42)\n",
    "model = LogisticRegression(max_iter=1000)\n",
    "model.fit(X_train, y_train)\n",
    "y_pred = model.predict(X_test)\n",
    "print(\"Confusion Matrix:\")\n",
    "print(confusion_matrix(y_test, y_pred))\n",
    "print(\"\\nClassification Report:\")\n",
    "print(classification_report(y_test, y_pred))"
   ]
  },
  {
   "cell_type": "code",
   "execution_count": null,
   "id": "23da2a1d",
   "metadata": {},
   "outputs": [],
   "source": [
    "# 7️⃣ Predict Risk Scores for Automation\n",
    "df['RiskScore'] = model.predict_proba(X)[:, 1]\n",
    "df[['customerID', 'RiskScore']].sort_values(by='RiskScore', ascending=False).head(10)"
   ]
  }
 ],
 "metadata": {
  "kernelspec": {
   "display_name": "Python 3 (ipykernel)",
   "language": "python",
   "name": "python3"
  },
  "language_info": {
   "codemirror_mode": {
    "name": "ipython",
    "version": 3
   },
   "file_extension": ".py",
   "mimetype": "text/x-python",
   "name": "python",
   "nbconvert_exporter": "python",
   "pygments_lexer": "ipython3",
   "version": "3.12.3"
  }
 },
 "nbformat": 4,
 "nbformat_minor": 5
}
